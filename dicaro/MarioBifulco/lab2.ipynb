{
 "cells": [
  {
   "cell_type": "markdown",
   "source": [
    "# Laboratorio 2 - from definition to sense\n",
    "\n",
    "I comuni dizionari a cui siamo abituati partono dalle parole, ovvero dalla forma, per arrivare al contenuto.\n",
    "Esistono alcuni tipi di dizionario chiamati dizionari analogici che funzionano ”al contrario”, ovvero non si ricerca per parola ma per definizione. Questo tipo di ricerca viene chiamata ricerca onomasiologica, ovvero si parte dal contenuto per arrivare alla forma. Proprio su questo si basa la seconda esercitazione.\n",
    "Sempre partendo dai dati sulle definizioni, si richiede di provare a costruire un sistema che utilizzi la molteplicità delle definizioni per risalire al termine \"target\" in maniera automatica.\n",
    "Non si richiede di \"indovinare\" ogni termine, ma di avvicinarsi (almeno semanticamente) alla risposta.\n",
    "Provare più soluzioni, includendo meccanismi di filtro delle definizioni (ad es. escludendo quelle meno informative o con caratteristiche particolari), di ricerca nell'albero tassonomico di WordNet (provando a partire da candidati \"genus\", secondo il principio Genus-Differentia), ecc."
   ],
   "metadata": {
    "collapsed": false,
    "id": "4U5tDb46E2V_"
   }
  },
  {
   "cell_type": "markdown",
   "source": [
    "## Import delle librerie"
   ],
   "metadata": {
    "collapsed": false
   }
  },
  {
   "cell_type": "code",
   "execution_count": 1,
   "outputs": [
    {
     "name": "stderr",
     "output_type": "stream",
     "text": [
      "[nltk_data] Downloading package stopwords to /Users/mario/nltk_data...\n",
      "[nltk_data]   Package stopwords is already up-to-date!\n",
      "[nltk_data] Downloading package wordnet to /Users/mario/nltk_data...\n",
      "[nltk_data]   Package wordnet is already up-to-date!\n"
     ]
    }
   ],
   "source": [
    "base_folder = './data'\n",
    "import nltk\n",
    "nltk.download('stopwords')\n",
    "nltk.download('wordnet')\n",
    "from statistics import mean\n",
    "import string\n",
    "from nltk.corpus import stopwords\n",
    "from nltk.stem import WordNetLemmatizer\n",
    "from operator import itemgetter\n",
    "from nltk.corpus import wordnet as wn"
   ],
   "metadata": {
    "id": "12_7J9QqE2WB",
    "executionInfo": {
     "status": "ok",
     "timestamp": 1685558598918,
     "user_tz": -120,
     "elapsed": 272,
     "user": {
      "displayName": "mario bifulco",
      "userId": "04970312166493026036"
     }
    },
    "ExecuteTime": {
     "end_time": "2023-06-05T12:24:50.227784Z",
     "start_time": "2023-06-05T12:24:49.466710Z"
    }
   }
  },
  {
   "cell_type": "markdown",
   "source": [
    "## Lettura dell'input\n",
    "\n",
    "Come per l'esercizio 1, leggiamo il file *tsv* per salvare le definizioni associate alle parole. Le definizioni sono raccolte in un dizionario le cui chiavi sono rappresentate dai termini.\n",
    "\n",
    "Per ottenere definizioni quanto più informative vengono rimosse le stopwords e viene effettuata l'operazione di lemmatizzazione. In questo modo è possibile salvare l'insieme delle parole *content* come definizione."
   ],
   "metadata": {
    "collapsed": false
   }
  },
  {
   "cell_type": "code",
   "execution_count": 4,
   "outputs": [],
   "source": [
    "lemmatizer = WordNetLemmatizer()"
   ],
   "metadata": {
    "id": "C_Bpr7cwE2WC",
    "executionInfo": {
     "status": "ok",
     "timestamp": 1685558599164,
     "user_tz": -120,
     "elapsed": 1,
     "user": {
      "displayName": "mario bifulco",
      "userId": "04970312166493026036"
     }
    },
    "ExecuteTime": {
     "end_time": "2023-06-05T12:25:25.024782Z",
     "start_time": "2023-06-05T12:25:25.016670Z"
    }
   }
  },
  {
   "cell_type": "code",
   "execution_count": 5,
   "outputs": [],
   "source": [
    "def remove_stopwords(phrase):\n",
    "    phrase = {lemmatizer.lemmatize(p) for p in phrase}\n",
    "    punct = string.punctuation\n",
    "    for p in punct:\n",
    "        phrase = {item.replace(p, '') for item in phrase}\n",
    "    phrase = {item.replace('\\'s', '') for item in phrase}\n",
    "    stop = stopwords.words('english')\n",
    "    return {t for t in phrase if t not in stop}"
   ],
   "metadata": {
    "id": "ncjbW4aFE2WC",
    "executionInfo": {
     "status": "ok",
     "timestamp": 1685558599421,
     "user_tz": -120,
     "elapsed": 1,
     "user": {
      "displayName": "mario bifulco",
      "userId": "04970312166493026036"
     }
    },
    "ExecuteTime": {
     "end_time": "2023-06-05T12:25:25.334795Z",
     "start_time": "2023-06-05T12:25:25.328919Z"
    }
   }
  },
  {
   "cell_type": "code",
   "execution_count": 6,
   "outputs": [],
   "source": [
    "def read_data(path):\n",
    "    with open(path) as f:\n",
    "        lines = f.readlines()\n",
    "    lines = [x.strip().split('\\t') for x in lines]\n",
    "\n",
    "    defs = {}\n",
    "    for i, e in enumerate(lines[0][1:]):\n",
    "        defs[e] = [remove_stopwords(s[i+1].lower().split()) for s in lines[1:]]\n",
    "    return defs"
   ],
   "metadata": {
    "id": "pf-fJdniE2WC",
    "executionInfo": {
     "status": "ok",
     "timestamp": 1685558599735,
     "user_tz": -120,
     "elapsed": 2,
     "user": {
      "displayName": "mario bifulco",
      "userId": "04970312166493026036"
     }
    },
    "ExecuteTime": {
     "end_time": "2023-06-05T12:25:25.777998Z",
     "start_time": "2023-06-05T12:25:25.772510Z"
    }
   }
  },
  {
   "cell_type": "code",
   "execution_count": 7,
   "outputs": [
    {
     "data": {
      "text/plain": "{'door': [{'closing',\n   'construction',\n   'divide',\n   'passage',\n   'rooms',\n   'temporarily',\n   'two',\n   'used'},\n  {'closed', 'opened', 'opening'},\n  {'closing',\n   'divide',\n   'door',\n   'enter',\n   'get',\n   'hole',\n   'let',\n   'object',\n   'open',\n   'people',\n   'room',\n   'two',\n   'wall'},\n  {'access', 'another', 'area', 'one', 'usable'},\n  {'access', 'allows', 'area', 'delimits', 'structure'},\n  {'block', 'moved', 'object', 'pas', 'passage', 'used'},\n  {'also',\n   'assembled',\n   'body',\n   'building',\n   'consists',\n   'handle',\n   'hinge',\n   'historically',\n   'iron',\n   'lock',\n   'locked',\n   'made',\n   'main',\n   'materials',\n   'mean',\n   'moving',\n   'object',\n   'opened',\n   'pushed',\n   'requires',\n   'room',\n   'rotates',\n   'separate',\n   'sometimes',\n   'unlock',\n   'used',\n   'wood'},\n  {'closed', 'go', 'object', 'opened', 'room', 'separate', 'used', 'wall'},\n  {'access', 'another', 'opened', 'order', 'place', 'something'},\n  {'access', 'room'},\n  {'access', 'allows', 'object', 'room'},\n  {'block',\n   'conditions',\n   'enclosing',\n   'entrance',\n   'intruder',\n   'key',\n   'locked',\n   'one',\n   'opening',\n   'outside',\n   'present',\n   'see',\n   'small',\n   'sort',\n   'time',\n   'usually',\n   'weather',\n   'well'},\n  {'allows',\n   'chamber',\n   'enables',\n   'get',\n   'inside',\n   'key',\n   'lock',\n   'made',\n   'mechanism',\n   'object',\n   'outside',\n   'people',\n   'unlock',\n   'usually'},\n  {'closed', 'opened', 'wall'},\n  {'access', 'allow', 'barrier', 'block', 'mechanism', 'room'},\n  {'enter', 'exit', 'let', 'people', 'room', 'way'},\n  {'allows',\n   'artificial',\n   'body',\n   'handle',\n   'hinge',\n   'made',\n   'main',\n   'object',\n   'opened',\n   'passage',\n   'space',\n   'two',\n   'usually'},\n  {'allows', 'close', 'enter', 'exit', 'object', 'open', 'place'},\n  {'allows', 'block', 'element', 'passage', 'room', 'wall'},\n  {'access', 'cross', 'limited', 'object', 'place'},\n  {'access',\n   'house',\n   'lock',\n   'made',\n   'object',\n   'rectangular',\n   'room',\n   'use',\n   'usually',\n   'wood'},\n  {'building', 'entrance', 'exit', 'room', 'space'},\n  {'allows', 'connection', 'object', 'space', 'two'},\n  {'another',\n   'architecture',\n   'leave',\n   'make',\n   'new',\n   'one',\n   'pas',\n   'person',\n   'space'},\n  {'building', 'entance', 'room'},\n  {'close', 'entrance', 'object', 'open', 'room'},\n  {'entrance', 'house', 'lock', 'object'},\n  {'access', 'block', 'object', 'physically', 'point', 'room', 'space'},\n  {'allows', 'go', 'opening', 'something'},\n  {'access',\n   'area',\n   'auxiliary',\n   'blank',\n   'building',\n   'built',\n   'different',\n   'space',\n   'structure',\n   'used',\n   'wall'}],\n 'ladybug': [{'black',\n   'flying',\n   'insect',\n   'leg',\n   'red',\n   'six',\n   'small',\n   'spot',\n   'typically'},\n  {'black',\n   'culture',\n   'dots',\n   'good',\n   'ha',\n   'insect',\n   'luck',\n   'many',\n   'red',\n   'symbol',\n   'wings'},\n  {'black', 'color', 'dot', 'fly', 'ha', 'insect', 'orange', 'red'},\n  {'back', 'insect', 'red', 'small'},\n  {'flying', 'insect', 'round', 'small'},\n  {'beatle',\n   'colored',\n   'family',\n   'flying',\n   'insect',\n   'red',\n   'small',\n   'tendentially'},\n  {'back',\n   'black',\n   'bring',\n   'considered',\n   'control',\n   'dot',\n   'fly',\n   'head',\n   'insect',\n   'insectivore',\n   'luck',\n   'natural',\n   'pest',\n   'red',\n   'small',\n   'used'},\n  {'black', 'brings', 'culture', 'dots', 'insect', 'luck', 'red', 'small'},\n  {'black', 'dot', 'insect', 'red', 'small'},\n  {'coat', 'dotted', 'insect', 'red', 'small', 'yellow'},\n  {'black', 'dot', 'flying', 'insect', 'red', 'small', 'usually'},\n  {'blackdotted',\n   'characterised',\n   'coat',\n   'considered',\n   'flying',\n   'good',\n   'insect',\n   'omen',\n   'red',\n   'tiny',\n   'usually'},\n  {'associated',\n   'black',\n   'fall',\n   'good',\n   'human',\n   'insect',\n   'life',\n   'luck',\n   'planet',\n   'red',\n   'small',\n   'spot',\n   'usually'},\n  {'black', 'dot', 'insect', 'red', 'small'},\n  {'black', 'insect', 'red', 'spot'},\n  {'back', 'black', 'dot', 'insect', 'small'},\n  {'associated',\n   'black',\n   'characterized',\n   'dot',\n   'flying',\n   'generally',\n   'good',\n   'harmless',\n   'insect',\n   'luck',\n   'red',\n   'wings'},\n  {'black',\n   'bring',\n   'characterized',\n   'color',\n   'flying',\n   'good',\n   'insect',\n   'luck',\n   'red',\n   'said',\n   'small',\n   'spots'},\n  {'black',\n   'dots',\n   'generally',\n   'good',\n   'insect',\n   'linked',\n   'luck',\n   'red',\n   'round',\n   'small',\n   'usually'},\n  {'black', 'characterized', 'color', 'dot', 'insect', 'red', 'small'},\n  {'black',\n   'dot',\n   'flower',\n   'fly',\n   'insect',\n   'red',\n   'round',\n   'small',\n   'usually'},\n  {'black', 'bug', 'red', 'round', 'shape', 'small', 'spot'},\n  {'black',\n   'characterized',\n   'color',\n   'dot',\n   'insect',\n   'red',\n   'small',\n   'usually'},\n  {'brings', 'fly', 'insect', 'luck', 'person', 'wich'},\n  {'black', 'dots', 'insect', 'red', 'small'},\n  {'back', 'blackdotted', 'insect', 'red'},\n  {'back', 'black', 'dot', 'insect', 'red'},\n  {'black', 'dot', 'insect', 'known', 'red', 'small', 'wing'},\n  {'bug', 'colored', 'dot'},\n  {'blackdotted',\n   'colored',\n   'domelike',\n   'flying',\n   'insect',\n   'pattern',\n   'red',\n   'structured',\n   'usually'}],\n 'pain': [{'distress', 'feeling', 'mental', 'physical'},\n  {'bad', 'emotional', 'feeling', 'hurt', 'physical'},\n  {'couscious', 'experince', 'felling', 'suffer'},\n  {'concept', 'describes', 'living', 'suffering'},\n  {'discomfort', 'feeling', 'physical'},\n  {'burning', 'sensation', 'unpleasant'},\n  {'body',\n   'creatures',\n   'damaged',\n   'felt',\n   'nature',\n   'negative',\n   'physical',\n   'psychological',\n   'sensation'},\n  {'caused', 'emotional', 'feeling', 'injury', 'pain', 'physical', 'sadness'},\n  {'express', 'sentiment', 'sorrow'},\n  {'emotional',\n   'exertion',\n   'physical',\n   'resulting',\n   'sensation',\n   'unpleasant'},\n  {'emotional', 'physical', 'sensation', 'unpleasant'},\n  {'bad',\n   'could',\n   'cries',\n   'discomfort',\n   'either',\n   'feeling',\n   'happens',\n   'light',\n   'loud',\n   'mentally',\n   'occurs',\n   'phisically',\n   'result',\n   'something'},\n  {'bring',\n   'discomfort',\n   'emotional',\n   'person',\n   'physical',\n   'sensation',\n   'soreness'},\n  {'caused', 'emotional', 'feeling', 'harm', 'physical'},\n  {'feeling', 'harmful', 'unpleasant'},\n  {'emotional', 'physical', 'sensation', 'unconfortable'},\n  {'cause', 'emotional', 'feeling', 'harm', 'physical', 'uneasiness'},\n  {'feel', 'feeling', 'nonpositive', 'nontangible', 'situation', 'tangible'},\n  {'aware',\n   'brain',\n   'complex',\n   'creature',\n   'emotionalmental',\n   'feeling',\n   'issues',\n   'make',\n   'natural',\n   'necessary',\n   'physical',\n   'produced'},\n  {'associated', 'emotion', 'suffering', 'unpleasant'},\n  {'body',\n   'emotion',\n   'felt',\n   'getting',\n   'harmed',\n   'isnt',\n   'right',\n   'something',\n   'tell',\n   'u',\n   'wants'},\n  {'damaging',\n   'emotional',\n   'emotionally',\n   'felt',\n   'harmful',\n   'kind',\n   'physical',\n   'response',\n   'sensation',\n   'something'},\n  {'cause', 'discomfort', 'experience', 'feeling'},\n  {'emotionally', 'hurt', 'person', 'physically', 'something'},\n  {'sensation', 'sickening'},\n  {'bad', 'emotional', 'feeling', 'physical'},\n  {'feeling', 'get', 'hurt'},\n  {'hurt', 'sensation'},\n  {'bad', 'feeling'},\n  {'causing',\n   'discomfort',\n   'mentally',\n   'negative',\n   'physically',\n   'sensation'}],\n 'blurriness': [{'focus', 'sight'},\n  {'absence', 'borders', 'definite', 'shapelessness'},\n  {'border', 'cant', 'clearly', 'felt', 'see', 'sensation', 'something'},\n  {'lack', 'sharpness'},\n  {'characteristic', 'clarity', 'lack', 'precision'},\n  {'blurred', 'blurring', 'everything', 'eyes', 'see', 'sensation'},\n  {'accurately',\n   'certain',\n   'conceptual',\n   'goal',\n   'inability',\n   'kind',\n   'perceive',\n   'physical',\n   'whether'},\n  {'bad', 'eye', 'image', 'lack', 'memory', 'unfocused', 'vision'},\n  {'bright', 'clear', 'condition', 'make', 'seeing', 'thant', 'totally'},\n  {'alcohol',\n   'confusion',\n   'drug',\n   'exertion',\n   'physical',\n   'resulting',\n   'state',\n   'use'},\n  {'confusion', 'sense'},\n  {'also',\n   'drug',\n   'focus',\n   'happens',\n   'hard',\n   'illness',\n   'make',\n   'object',\n   'photograph',\n   'property',\n   'propery',\n   'see',\n   'use',\n   'usually'},\n  {'allow',\n   'close',\n   'condition',\n   'detailed',\n   'distance',\n   'doesnt',\n   'far',\n   'object',\n   'people',\n   'person',\n   'see',\n   'way'},\n  {'absence', 'border', 'clarity', 'defined', 'image', 'visual'},\n  {'blend', 'clarity', 'condition', 'detail', 'losing', 'together', 'visual'},\n  {'camera', 'disrupts', 'partially', 'person', 'phenomenon', 'vision'},\n  {'clearly',\n   'concept',\n   'defined',\n   'ill',\n   'indefiniteness',\n   'metaphorically',\n   'perceived',\n   'something',\n   'state'},\n  {'condition',\n   'context',\n   'focus',\n   'le',\n   'make',\n   'often',\n   'photographic',\n   'something',\n   'specific',\n   'subject',\n   'used',\n   'visible'},\n  {'attributed',\n   'border',\n   'clearly',\n   'defined',\n   'device',\n   'eye',\n   'image',\n   'natural',\n   'state',\n   'vision'},\n  {'characteristic',\n   'hard',\n   'image',\n   'line',\n   'recognize',\n   'shape',\n   'undefined',\n   'whose'},\n  {'clear',\n   'colour',\n   'edges',\n   'eye',\n   'happen',\n   'happens',\n   'isnt',\n   'mix',\n   'near',\n   'phenomenon',\n   'picture',\n   'problem',\n   'something',\n   'visual',\n   'visually'},\n  {'affect',\n   'confuses',\n   'detail',\n   'effect',\n   'hard',\n   'image',\n   'making',\n   'outline',\n   'see',\n   'vision'},\n  {'clear', 'effect', 'hard', 'make', 'see', 'something', 'visual'},\n  {'allows', 'clear', 'effect', 'object', 'see', 'visual', 'way'},\n  {'confuses', 'looking', 'perception', 'visual'},\n  {'distorted', 'vision'},\n  {'condition', 'corrected', 'eye', 'eyeglass'},\n  {'defined',\n   'faulty',\n   'object',\n   'perceived',\n   'perception',\n   'properly',\n   'specific'},\n  {'blinding', 'distance', 'effect', 'increase'},\n  {'focus', 'given', 'image', 'lack', 'low', 'quality', 'texture'}]}"
     },
     "metadata": {},
     "output_type": "display_data"
    }
   ],
   "source": [
    "definitions = read_data(f'{base_folder}/TLN-definitions-23.tsv')\n",
    "display(definitions)"
   ],
   "metadata": {
    "colab": {
     "base_uri": "https://localhost:8080/",
     "height": 1000
    },
    "id": "XfqBoFKkE2WC",
    "executionInfo": {
     "status": "ok",
     "timestamp": 1685558601172,
     "user_tz": -120,
     "elapsed": 1438,
     "user": {
      "displayName": "mario bifulco",
      "userId": "04970312166493026036"
     }
    },
    "outputId": "3b2ab679-b316-4261-d68e-48494abb2d13",
    "ExecuteTime": {
     "end_time": "2023-06-05T12:25:26.445378Z",
     "start_time": "2023-06-05T12:25:26.409053Z"
    }
   }
  },
  {
   "cell_type": "markdown",
   "source": [
    "## Ricerca del Genus\n",
    "\n",
    "Secondo la teoria *Genus-Diferentia*, la parola più frequente nelle definizioni è molto probabilmente collegata al termine stesso che stiamo cercando.\n",
    "\n",
    "Per questo motivo, il metodo *find_most_frequent_words* calcola la frequenza con cui compaiono le parole in una stringa e restituisce due array ordinati, il primo contenente le parole più frequenti e il secondo contenente le frequenze stesse."
   ],
   "metadata": {
    "collapsed": false
   }
  },
  {
   "cell_type": "code",
   "execution_count": 8,
   "outputs": [],
   "source": [
    "def find_most_frequent_words(text):\n",
    "    text = [w.strip() for w in text.split()]\n",
    "    words_freq = {(w, text.count(w)) for w in text}\n",
    "    ordered = sorted(words_freq, key=itemgetter(1), reverse=True)\n",
    "    return [o[0] for o in ordered], [o[1] for o in ordered]"
   ],
   "metadata": {
    "id": "YccduwUCE2WD",
    "executionInfo": {
     "status": "ok",
     "timestamp": 1685558601172,
     "user_tz": -120,
     "elapsed": 10,
     "user": {
      "displayName": "mario bifulco",
      "userId": "04970312166493026036"
     }
    },
    "ExecuteTime": {
     "end_time": "2023-06-05T12:25:27.546617Z",
     "start_time": "2023-06-05T12:25:27.544397Z"
    }
   }
  },
  {
   "cell_type": "markdown",
   "source": [
    "## Calcolo della similarità su WordNet\n",
    "\n",
    "Il seguente metodo, dato un synset di WordNet e una lista di definizioni, calcola la similarità media tra le definizioni annotate e la stringa contesto ottenuta dall'unione degli esempi presenti su WordNet e dalla definizione online."
   ],
   "metadata": {
    "collapsed": false
   }
  },
  {
   "cell_type": "code",
   "execution_count": 9,
   "outputs": [],
   "source": [
    "def get_similarity(s, defs):\n",
    "    synset_words = set()\n",
    "    synset_words = synset_words.union(s.definition().split())\n",
    "    for ex in s.examples():\n",
    "        synset_words = synset_words.union(ex.split())\n",
    "    synset_words = remove_stopwords(synset_words)\n",
    "    similarities = []\n",
    "    for d in defs:\n",
    "        similarities.append(len(synset_words.intersection(d)) / min(len(synset_words), len(d)))\n",
    "    return mean(similarities)"
   ],
   "metadata": {
    "id": "b66b6zihE2WD",
    "executionInfo": {
     "status": "ok",
     "timestamp": 1685558601172,
     "user_tz": -120,
     "elapsed": 9,
     "user": {
      "displayName": "mario bifulco",
      "userId": "04970312166493026036"
     }
    },
    "ExecuteTime": {
     "end_time": "2023-06-05T12:25:28.675941Z",
     "start_time": "2023-06-05T12:25:28.671440Z"
    }
   }
  },
  {
   "cell_type": "markdown",
   "source": [
    "## Ricerca nella gerarchia\n",
    "\n",
    "Il metodo *wordnet_search* percorre tre livelli dell'albero di wordnet a partire da un termine, calcolando per ogni possibile senso la similarità e restituendo i sensi dal più probabile a quello più inverosimile.\n",
    "\n",
    "La scelta di effettuare un numero di salti pari a tre è stata fatta per evitare una ricerca esaustiva nell'albero, che non sarebbe molto significativa per il task. Inoltre, da un'analisi svolta a mano si può verificare che tutti i termini che stiamo cercando distano al più due iperonimi dal giusto Genus estratto dal dataset."
   ],
   "metadata": {
    "collapsed": false
   }
  },
  {
   "cell_type": "code",
   "execution_count": 10,
   "outputs": [],
   "source": [
    "def wordnet_search(t, defs):\n",
    "    bests = []\n",
    "    min_sim = 0\n",
    "    for s1 in wn.synsets(t, pos='n'):\n",
    "        sim = get_similarity(s1, defs)\n",
    "        if sim > min_sim:\n",
    "            min_sim = sim\n",
    "            bests.append((s1, sim))\n",
    "        for s2 in s1.hyponyms():\n",
    "            sim = get_similarity(s2, defs)\n",
    "            if sim > min_sim:\n",
    "                min_sim = sim\n",
    "                bests.append((s2, sim))\n",
    "            for s3 in s2.hyponyms():\n",
    "                sim = get_similarity(s3, defs)\n",
    "                if sim > min_sim:\n",
    "                    min_sim = sim\n",
    "                    bests.append((s3, sim))\n",
    "    return sorted(bests, key=itemgetter(1), reverse=True)"
   ],
   "metadata": {
    "id": "2WYEgkF2E2WD",
    "executionInfo": {
     "status": "ok",
     "timestamp": 1685558601173,
     "user_tz": -120,
     "elapsed": 10,
     "user": {
      "displayName": "mario bifulco",
      "userId": "04970312166493026036"
     }
    },
    "ExecuteTime": {
     "end_time": "2023-06-05T12:25:29.866940Z",
     "start_time": "2023-06-05T12:25:29.863995Z"
    }
   }
  },
  {
   "cell_type": "markdown",
   "source": [
    "Di seguito, vengono elencati i cinque migliori sensi data la lista di definizioni. Per effettuare il confronto, viene stampato anche il termine ricercato.\n",
    "\n",
    "Si può notare che, per i termini concreti, il senso corretto è tra i primi tre restituiti. Quindi, in questi casi, le definizioni sono state abbastanza precise per permettere di recuperare il senso associato.\n",
    "\n",
    "Il synset relativo al termine *pain* non viene trovato, tuttavia si può notare come i sensi recuperati non siano semanticamente distanti dal target.\n",
    "\n",
    "Situazione diversa, invece, per *blurriness*, termine per il quale i sensi restituiti non sono collegati se non tangenzialmente. Analizzando il dataset e le frequenza di comparsa delle parole, si deduce che l'unico termine che avrebbe potuto portare al senso *blurriness*, ovvero il Genus corretto, è *quality*, che però appare con una frequenza pari a uno, motivo per cui non è considerato un Genus candidato dall'algoritmo."
   ],
   "metadata": {
    "collapsed": false
   }
  },
  {
   "cell_type": "code",
   "execution_count": 11,
   "outputs": [],
   "source": [
    "top_k = 5"
   ],
   "metadata": {
    "id": "73L1nBfyE2WD",
    "executionInfo": {
     "status": "ok",
     "timestamp": 1685558601173,
     "user_tz": -120,
     "elapsed": 10,
     "user": {
      "displayName": "mario bifulco",
      "userId": "04970312166493026036"
     }
    },
    "ExecuteTime": {
     "end_time": "2023-06-05T12:25:31.118966Z",
     "start_time": "2023-06-05T12:25:31.113843Z"
    }
   }
  },
  {
   "cell_type": "code",
   "execution_count": 12,
   "metadata": {
    "collapsed": true,
    "colab": {
     "base_uri": "https://localhost:8080/"
    },
    "id": "VfzPI25ZE2WE",
    "outputId": "2799fa5c-f214-446e-fe25-f20ff91e953c",
    "ExecuteTime": {
     "end_time": "2023-06-05T12:25:34.901395Z",
     "start_time": "2023-06-05T12:25:31.781612Z"
    }
   },
   "outputs": [
    {
     "name": "stdout",
     "output_type": "stream",
     "text": [
      "door\n",
      "\t('room', Synset('dining_room.n.01')) - 1.207\n",
      "\t('access', Synset('doorway.n.01')) - 0.981\n",
      "\t('room', Synset('bedroom.n.01')) - 0.946\n",
      "\t('room', Synset('room.n.01')) - 0.908\n",
      "\t('access', Synset('entrance.n.01')) - 0.533\n",
      "ladybug\n",
      "\t('insect', Synset('ephemerid.n.01')) - 3.709\n",
      "\t('insect', Synset('ladybug.n.01')) - 2.338\n",
      "\t('red', Synset('wine.n.02')) - 2.132\n",
      "\t('black', Synset('coal_black.n.01')) - 2.086\n",
      "\t('insect', Synset('ground_beetle.n.01')) - 1.964\n",
      "pain\n",
      "\t('feeling', Synset('feeling.n.04')) - 2.195\n",
      "\t('feeling', Synset('suffering.n.04')) - 2.026\n",
      "\t('feeling', Synset('emotion.n.01')) - 1.754\n",
      "\t('feeling', Synset('ambivalence.n.01')) - 1.378\n",
      "\t('feeling', Synset('feeling.n.01')) - 1.294\n",
      "blurriness\n",
      "\t('image', Synset('memory_picture.n.01')) - 0.383\n",
      "\t('vision', Synset('sight.n.03')) - 0.334\n",
      "\t('condition', Synset('emmetropia.n.01')) - 0.286\n",
      "\t('image', Synset('memory_image.n.01')) - 0.272\n",
      "\t('focus', Synset('particularism.n.01')) - 0.261\n"
     ]
    }
   ],
   "source": [
    "for k, v in definitions.items():\n",
    "    all_words = ''\n",
    "    for words in v:\n",
    "        all_words += ' ' + ' '.join(words)\n",
    "    terms, freqs = find_most_frequent_words(all_words)[:top_k]\n",
    "    candidates = {}\n",
    "    for idx, term in enumerate(terms):\n",
    "        if term in {'object', 'entity'}:\n",
    "            continue\n",
    "        for sense, similarity in wordnet_search(term, v):\n",
    "            if sense not in candidates:\n",
    "                candidates[(term, sense)] = similarity * freqs[idx] / mean(freqs)\n",
    "            else:\n",
    "                candidates[(term, sense)] += similarity * freqs[idx] / mean(freqs)\n",
    "    print(k)\n",
    "    for c in sorted(candidates.items(), key=itemgetter(1), reverse=True)[:top_k]:\n",
    "        print(f'\\t{str(c[0])} - {round(c[1], 3)}')"
   ]
  },
  {
   "cell_type": "code",
   "execution_count": null,
   "outputs": [],
   "source": [],
   "metadata": {
    "collapsed": false
   }
  }
 ],
 "metadata": {
  "kernelspec": {
   "display_name": "Python 3",
   "language": "python",
   "name": "python3"
  },
  "language_info": {
   "codemirror_mode": {
    "name": "ipython",
    "version": 2
   },
   "file_extension": ".py",
   "mimetype": "text/x-python",
   "name": "python",
   "nbconvert_exporter": "python",
   "pygments_lexer": "ipython2",
   "version": "2.7.6"
  },
  "colab": {
   "provenance": []
  }
 },
 "nbformat": 4,
 "nbformat_minor": 0
}
