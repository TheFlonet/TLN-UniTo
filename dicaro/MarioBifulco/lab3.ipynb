{
 "cells": [
  {
   "cell_type": "markdown",
   "source": [
    "# Laboratorio 3 - Verbs\n",
    "\n",
    "Si richiede un’implementazione della teoria sulle valenze di Patrick Hanks.\n",
    "In particolare, partendo da un corpus a scelta e uno specifico verbo (tendenzialmente non troppo frequente e/o generico ma nemmeno raro), l’idea è di costruire dei possibili cluster semantici, con relativa frequenza.\n",
    "Ad es. Dato il verbo \"to see\" con valenza = 2, e usando un parser sintattico (ad es. Spacy), si possono collezionare eventuali fillers per i ruoli di subj e obj del verbo, per poi convertirli in semantic types.\n",
    "Un cluster frequente su \"to see\" potrebbe unire subj = noun.person con obj = noun.artifact.\n",
    "Si richiede di partire da un corpus di almeno alcune centinaia d'istanze del verbo."
   ],
   "metadata": {
    "collapsed": false,
    "id": "OZ4RWyDVE20t"
   }
  },
  {
   "cell_type": "markdown",
   "source": [
    "## Import delle librerie"
   ],
   "metadata": {
    "collapsed": false
   }
  },
  {
   "cell_type": "code",
   "execution_count": 1,
   "outputs": [
    {
     "name": "stdout",
     "output_type": "stream",
     "text": [
      "Requirement already satisfied: datasets in ./venv/lib/python3.11/site-packages (2.12.0)\r\n",
      "Requirement already satisfied: numpy>=1.17 in ./venv/lib/python3.11/site-packages (from datasets) (1.24.3)\r\n",
      "Requirement already satisfied: pyarrow>=8.0.0 in ./venv/lib/python3.11/site-packages (from datasets) (12.0.0)\r\n",
      "Requirement already satisfied: dill<0.3.7,>=0.3.0 in ./venv/lib/python3.11/site-packages (from datasets) (0.3.6)\r\n",
      "Requirement already satisfied: pandas in ./venv/lib/python3.11/site-packages (from datasets) (2.0.2)\r\n",
      "Requirement already satisfied: requests>=2.19.0 in ./venv/lib/python3.11/site-packages (from datasets) (2.31.0)\r\n",
      "Requirement already satisfied: tqdm>=4.62.1 in ./venv/lib/python3.11/site-packages (from datasets) (4.65.0)\r\n",
      "Requirement already satisfied: xxhash in ./venv/lib/python3.11/site-packages (from datasets) (3.2.0)\r\n",
      "Requirement already satisfied: multiprocess in ./venv/lib/python3.11/site-packages (from datasets) (0.70.14)\r\n",
      "Requirement already satisfied: fsspec[http]>=2021.11.1 in ./venv/lib/python3.11/site-packages (from datasets) (2023.5.0)\r\n",
      "Requirement already satisfied: aiohttp in ./venv/lib/python3.11/site-packages (from datasets) (3.8.4)\r\n",
      "Requirement already satisfied: huggingface-hub<1.0.0,>=0.11.0 in ./venv/lib/python3.11/site-packages (from datasets) (0.14.1)\r\n",
      "Requirement already satisfied: packaging in ./venv/lib/python3.11/site-packages (from datasets) (23.1)\r\n",
      "Requirement already satisfied: responses<0.19 in ./venv/lib/python3.11/site-packages (from datasets) (0.18.0)\r\n",
      "Requirement already satisfied: pyyaml>=5.1 in ./venv/lib/python3.11/site-packages (from datasets) (6.0)\r\n",
      "Requirement already satisfied: attrs>=17.3.0 in ./venv/lib/python3.11/site-packages (from aiohttp->datasets) (23.1.0)\r\n",
      "Requirement already satisfied: charset-normalizer<4.0,>=2.0 in ./venv/lib/python3.11/site-packages (from aiohttp->datasets) (3.1.0)\r\n",
      "Requirement already satisfied: multidict<7.0,>=4.5 in ./venv/lib/python3.11/site-packages (from aiohttp->datasets) (6.0.4)\r\n",
      "Requirement already satisfied: async-timeout<5.0,>=4.0.0a3 in ./venv/lib/python3.11/site-packages (from aiohttp->datasets) (4.0.2)\r\n",
      "Requirement already satisfied: yarl<2.0,>=1.0 in ./venv/lib/python3.11/site-packages (from aiohttp->datasets) (1.9.2)\r\n",
      "Requirement already satisfied: frozenlist>=1.1.1 in ./venv/lib/python3.11/site-packages (from aiohttp->datasets) (1.3.3)\r\n",
      "Requirement already satisfied: aiosignal>=1.1.2 in ./venv/lib/python3.11/site-packages (from aiohttp->datasets) (1.3.1)\r\n",
      "Requirement already satisfied: filelock in ./venv/lib/python3.11/site-packages (from huggingface-hub<1.0.0,>=0.11.0->datasets) (3.12.0)\r\n",
      "Requirement already satisfied: typing-extensions>=3.7.4.3 in ./venv/lib/python3.11/site-packages (from huggingface-hub<1.0.0,>=0.11.0->datasets) (4.6.2)\r\n",
      "Requirement already satisfied: idna<4,>=2.5 in ./venv/lib/python3.11/site-packages (from requests>=2.19.0->datasets) (3.4)\r\n",
      "Requirement already satisfied: urllib3<3,>=1.21.1 in ./venv/lib/python3.11/site-packages (from requests>=2.19.0->datasets) (2.0.2)\r\n",
      "Requirement already satisfied: certifi>=2017.4.17 in ./venv/lib/python3.11/site-packages (from requests>=2.19.0->datasets) (2023.5.7)\r\n",
      "Requirement already satisfied: python-dateutil>=2.8.2 in ./venv/lib/python3.11/site-packages (from pandas->datasets) (2.8.2)\r\n",
      "Requirement already satisfied: pytz>=2020.1 in ./venv/lib/python3.11/site-packages (from pandas->datasets) (2023.3)\r\n",
      "Requirement already satisfied: tzdata>=2022.1 in ./venv/lib/python3.11/site-packages (from pandas->datasets) (2023.3)\r\n",
      "Requirement already satisfied: six>=1.5 in ./venv/lib/python3.11/site-packages (from python-dateutil>=2.8.2->pandas->datasets) (1.16.0)\r\n"
     ]
    },
    {
     "name": "stderr",
     "output_type": "stream",
     "text": [
      "[nltk_data] Downloading package punkt to /Users/mario/nltk_data...\n",
      "[nltk_data]   Package punkt is already up-to-date!\n",
      "[nltk_data] Downloading package stopwords to /Users/mario/nltk_data...\n",
      "[nltk_data]   Package stopwords is already up-to-date!\n",
      "[nltk_data] Downloading package wordnet to /Users/mario/nltk_data...\n",
      "[nltk_data]   Package wordnet is already up-to-date!\n"
     ]
    }
   ],
   "source": [
    "base_folder = './data'\n",
    "!pip install datasets\n",
    "import nltk\n",
    "nltk.download('punkt')\n",
    "nltk.download('stopwords')\n",
    "nltk.download('wordnet')\n",
    "import pandas as pd\n",
    "from datasets import load_dataset\n",
    "import spacy\n",
    "from nltk.corpus import wordnet as wn\n",
    "import matplotlib.pyplot as plt\n",
    "from nltk import tokenize\n",
    "import string\n",
    "from nltk.corpus import stopwords"
   ],
   "metadata": {
    "id": "--87O3n_E20x",
    "executionInfo": {
     "status": "ok",
     "timestamp": 1685559081607,
     "user_tz": -120,
     "elapsed": 7,
     "user": {
      "displayName": "mario bifulco",
      "userId": "04970312166493026036"
     }
    },
    "ExecuteTime": {
     "end_time": "2023-06-05T12:25:55.127914Z",
     "start_time": "2023-06-05T12:25:49.474541Z"
    }
   }
  },
  {
   "cell_type": "markdown",
   "source": [
    "## Dati utilizzati\n",
    "\n",
    "Per questa esercitazione viene utilizzato il database IMDB.\n",
    "\n",
    "L'obiettivo è estrarre un numero elevato di frasi contenenti il verbo preso in esame. Per questo motivo non è discriminante la scelta del dataset, basta che sia sufficientemente ricco da permettere un'ampia estrazione di esempi."
   ],
   "metadata": {
    "collapsed": false
   }
  },
  {
   "cell_type": "code",
   "execution_count": 2,
   "outputs": [
    {
     "name": "stderr",
     "output_type": "stream",
     "text": [
      "Found cached dataset imdb (/Users/mario/.cache/huggingface/datasets/imdb/plain_text/1.0.0/d613c88cf8fa3bab83b4ded3713f1f74830d1100e171db75bbddb80b3345c9c0)\n"
     ]
    }
   ],
   "source": [
    "dataset = pd.DataFrame(load_dataset('imdb', split='unsupervised'))\n",
    "dataset = dataset.drop(columns=['label'])\n",
    "nlp = spacy.load('en_core_web_sm')"
   ],
   "metadata": {
    "colab": {
     "base_uri": "https://localhost:8080/"
    },
    "id": "Z4jsReGCE20y",
    "executionInfo": {
     "status": "ok",
     "timestamp": 1685559086008,
     "user_tz": -120,
     "elapsed": 4406,
     "user": {
      "displayName": "mario bifulco",
      "userId": "04970312166493026036"
     }
    },
    "outputId": "460ec824-f8ec-46d3-df36-b2ad4a91d8d4",
    "ExecuteTime": {
     "end_time": "2023-06-05T12:26:00.722438Z",
     "start_time": "2023-06-05T12:25:57.639831Z"
    }
   }
  },
  {
   "cell_type": "code",
   "execution_count": 3,
   "outputs": [],
   "source": [
    "selected_phrases = []\n",
    "for txt in dataset['text']:\n",
    "    for s in tokenize.sent_tokenize(txt):\n",
    "        if 'write' in s.lower():\n",
    "            selected_phrases.append(s)"
   ],
   "metadata": {
    "id": "xeRtIAVcE20y",
    "executionInfo": {
     "status": "ok",
     "timestamp": 1685559116030,
     "user_tz": -120,
     "elapsed": 30027,
     "user": {
      "displayName": "mario bifulco",
      "userId": "04970312166493026036"
     }
    },
    "ExecuteTime": {
     "end_time": "2023-06-05T12:26:06.184895Z",
     "start_time": "2023-06-05T12:26:01.965107Z"
    }
   }
  },
  {
   "cell_type": "markdown",
   "source": [
    "## Estrazione del soggetto e dell'oggetto del verbo\n",
    "\n",
    "I due metodi sottostanti servono per ricavare, a partire dal testo, il soggetto e l'oggetto relativo al verbo."
   ],
   "metadata": {
    "collapsed": false
   }
  },
  {
   "cell_type": "code",
   "execution_count": 4,
   "outputs": [],
   "source": [
    "def get_subject_phrase(text):\n",
    "    for token in text:\n",
    "        if 'subj' in token.dep_:\n",
    "            return token"
   ],
   "metadata": {
    "id": "1xP1xAeOE20y",
    "executionInfo": {
     "status": "ok",
     "timestamp": 1685559116031,
     "user_tz": -120,
     "elapsed": 28,
     "user": {
      "displayName": "mario bifulco",
      "userId": "04970312166493026036"
     }
    },
    "ExecuteTime": {
     "end_time": "2023-06-05T12:26:07.067675Z",
     "start_time": "2023-06-05T12:26:07.060205Z"
    }
   }
  },
  {
   "cell_type": "code",
   "execution_count": 5,
   "outputs": [],
   "source": [
    "def get_object_phrase(text):\n",
    "    for token in text:\n",
    "        if 'dobj' in token.dep_:\n",
    "            return token"
   ],
   "metadata": {
    "id": "alYjo6vlE20z",
    "executionInfo": {
     "status": "ok",
     "timestamp": 1685559116031,
     "user_tz": -120,
     "elapsed": 26,
     "user": {
      "displayName": "mario bifulco",
      "userId": "04970312166493026036"
     }
    },
    "ExecuteTime": {
     "end_time": "2023-06-05T12:26:07.784732Z",
     "start_time": "2023-06-05T12:26:07.780538Z"
    }
   }
  },
  {
   "cell_type": "markdown",
   "source": [
    "Anche in questo caso, le frasi sono filtrate per conservare soltanto le parole *content*."
   ],
   "metadata": {
    "collapsed": false
   }
  },
  {
   "cell_type": "code",
   "execution_count": 6,
   "outputs": [],
   "source": [
    "stop = stopwords.words('english')\n",
    "stop.extend(['\\'s', 'i', 'me', 'br'])\n",
    "\n",
    "def remove_stopwords(phrase):\n",
    "    for p in string.punctuation:\n",
    "        stop.append(p)\n",
    "    return {t for t in phrase if t.lemma_.lower() not in stop}"
   ],
   "metadata": {
    "id": "m5qy6mkqE20z",
    "executionInfo": {
     "status": "ok",
     "timestamp": 1685559116031,
     "user_tz": -120,
     "elapsed": 25,
     "user": {
      "displayName": "mario bifulco",
      "userId": "04970312166493026036"
     }
    },
    "ExecuteTime": {
     "end_time": "2023-06-05T12:26:09.235813Z",
     "start_time": "2023-06-05T12:26:09.227290Z"
    }
   }
  },
  {
   "cell_type": "code",
   "execution_count": 7,
   "outputs": [],
   "source": [
    "def filter_elements(phrase):\n",
    "    if phrase is None:\n",
    "        return []\n",
    "    return phrase if phrase.lemma_.lower() not in stop and len(wn.synsets(phrase.lemma_)) > 0 else []"
   ],
   "metadata": {
    "id": "S2xG1QsiE20z",
    "executionInfo": {
     "status": "ok",
     "timestamp": 1685559116031,
     "user_tz": -120,
     "elapsed": 25,
     "user": {
      "displayName": "mario bifulco",
      "userId": "04970312166493026036"
     }
    },
    "ExecuteTime": {
     "end_time": "2023-06-05T12:26:10.138777Z",
     "start_time": "2023-06-05T12:26:10.131409Z"
    }
   }
  },
  {
   "cell_type": "code",
   "execution_count": 8,
   "outputs": [],
   "source": [
    "tuples = []\n",
    "for i, sentence in enumerate(selected_phrases):\n",
    "    doc = nlp(sentence)\n",
    "    subj = filter_elements(get_subject_phrase(doc))\n",
    "    obj = filter_elements(get_object_phrase(doc))\n",
    "\n",
    "    if len(subj) > 0 and len(obj) > 0:\n",
    "        tuples.append((subj, obj))"
   ],
   "metadata": {
    "id": "eeezUO48E20z",
    "executionInfo": {
     "status": "ok",
     "timestamp": 1685559202230,
     "user_tz": -120,
     "elapsed": 86223,
     "user": {
      "displayName": "mario bifulco",
      "userId": "04970312166493026036"
     }
    },
    "ExecuteTime": {
     "end_time": "2023-06-05T12:26:58.195339Z",
     "start_time": "2023-06-05T12:26:10.943789Z"
    }
   }
  },
  {
   "cell_type": "markdown",
   "source": [
    "Per gestire i dati ottenuti viene utilizzato un DataFrame della libreria *pandas* con due colonne, la prima per i soggetti e la seconda per gli oggetti. Si è scelto di non riportare il verbo in quanto la colonna conterrebbe sempre lo stesso valore, rendendola non significativa."
   ],
   "metadata": {
    "collapsed": false
   }
  },
  {
   "cell_type": "code",
   "execution_count": 9,
   "outputs": [],
   "source": [
    "phrases = pd.DataFrame(tuples, columns=['subj', 'obj'])"
   ],
   "metadata": {
    "id": "0JXD3P9YE20z",
    "executionInfo": {
     "status": "ok",
     "timestamp": 1685559202231,
     "user_tz": -120,
     "elapsed": 7,
     "user": {
      "displayName": "mario bifulco",
      "userId": "04970312166493026036"
     }
    },
    "ExecuteTime": {
     "end_time": "2023-06-05T12:27:03.551651Z",
     "start_time": "2023-06-05T12:27:03.547824Z"
    }
   }
  },
  {
   "cell_type": "markdown",
   "source": [
    "## Lettura dei tipi semantici\n",
    "\n",
    "Dal file fornito si estraggono i tipi semantici relativi ai synset di WordNet. In questo modo si salvano tutti i possibili tipi semantici e un dizionario che associa ad ogni senso il tipo semantico da restituire."
   ],
   "metadata": {
    "collapsed": false
   }
  },
  {
   "cell_type": "code",
   "execution_count": 10,
   "outputs": [],
   "source": [
    "sem_types = {}\n",
    "sem_set = set()\n",
    "with open(f'{base_folder}/csi_inventory_semantictypes.txt') as f:\n",
    "    for line in f:\n",
    "        parts = line.strip().split('\\t')\n",
    "        pos, offset = parts[0][-1], int(parts[0][3:-1])\n",
    "        sem_types[wn.synset_from_pos_and_offset(pos, offset)] = parts[1]\n",
    "        sem_set.add(parts[1])"
   ],
   "metadata": {
    "id": "zP93xPr-E20z",
    "executionInfo": {
     "status": "ok",
     "timestamp": 1685559208495,
     "user_tz": -120,
     "elapsed": 6269,
     "user": {
      "displayName": "mario bifulco",
      "userId": "04970312166493026036"
     }
    },
    "ExecuteTime": {
     "end_time": "2023-06-05T12:27:06.652363Z",
     "start_time": "2023-06-05T12:27:05.129467Z"
    }
   }
  },
  {
   "cell_type": "markdown",
   "source": [
    "## Clustering\n",
    "\n",
    "Successivamente viene effettuato il conteggio per ogni coppia di tipi semantici a partire dal dataset."
   ],
   "metadata": {
    "collapsed": false
   }
  },
  {
   "cell_type": "code",
   "execution_count": 11,
   "outputs": [],
   "source": [
    "counter = {f'{x}-{y}': 0 for x in sem_set for y in sem_set}\n",
    "for i, row in phrases.iterrows():\n",
    "    subj_type = None\n",
    "    for synset in wn.synsets(row['subj'].text):\n",
    "        if synset in sem_types:\n",
    "            subj_type = sem_types[synset]\n",
    "    obj_type = None\n",
    "    for synset in wn.synsets(row['obj'].text):\n",
    "        if synset in sem_types:\n",
    "            obj_type = sem_types[synset]\n",
    "    if subj_type is not None and obj_type is not None:\n",
    "        counter[f'{subj_type}-{obj_type}'] += 1"
   ],
   "metadata": {
    "id": "C-bZRsuDE200",
    "executionInfo": {
     "status": "ok",
     "timestamp": 1685559208496,
     "user_tz": -120,
     "elapsed": 26,
     "user": {
      "displayName": "mario bifulco",
      "userId": "04970312166493026036"
     }
    },
    "ExecuteTime": {
     "end_time": "2023-06-05T12:27:09.155412Z",
     "start_time": "2023-06-05T12:27:09.064913Z"
    }
   }
  },
  {
   "cell_type": "markdown",
   "source": [
    "## Plotting\n",
    "\n",
    "Infine, vengono visualizzati i dieci cluster più frequenti. Per il termine *write* si può vedere che quasi sempre il soggetto è *language and linguistics*, tipo semantico ragionevole per il verbo scelto."
   ],
   "metadata": {
    "collapsed": false
   }
  },
  {
   "cell_type": "code",
   "execution_count": 13,
   "outputs": [
    {
     "data": {
      "text/plain": "<Figure size 1500x500 with 1 Axes>",
      "image/png": "[encoded data removed]"
     },
     "metadata": {},
     "output_type": "display_data"
    }
   ],
   "source": [
    "tops = sorted(counter.items(), key=lambda x: x[1], reverse=True)[:10]\n",
    "tot = sum([x[1] for x in tops])\n",
    "\n",
    "plt.subplots(figsize=(15, 5))\n",
    "labels = [x[0].replace('-', '-\\n').split('_') for x in tops]\n",
    "labels = ['\\n'.join(x[:-1]) for x in labels]\n",
    "plt.bar(labels, [x[1]/tot for x in tops])\n",
    "plt.show()"
   ],
   "metadata": {
    "colab": {
     "base_uri": "https://localhost:8080/",
     "height": 577
    },
    "id": "vDQG9lS5E200",
    "executionInfo": {
     "status": "ok",
     "timestamp": 1685559209208,
     "user_tz": -120,
     "elapsed": 736,
     "user": {
      "displayName": "mario bifulco",
      "userId": "04970312166493026036"
     }
    },
    "outputId": "ae318240-5506-488f-89e2-e0a072a72dad",
    "ExecuteTime": {
     "end_time": "2023-06-05T12:30:03.025221Z",
     "start_time": "2023-06-05T12:30:02.879786Z"
    }
   }
  },
  {
   "cell_type": "code",
   "execution_count": null,
   "outputs": [],
   "source": [],
   "metadata": {
    "collapsed": false
   }
  }
 ],
 "metadata": {
  "kernelspec": {
   "display_name": "Python 3",
   "language": "python",
   "name": "python3"
  },
  "language_info": {
   "codemirror_mode": {
    "name": "ipython",
    "version": 2
   },
   "file_extension": ".py",
   "mimetype": "text/x-python",
   "name": "python",
   "nbconvert_exporter": "python",
   "pygments_lexer": "ipython2",
   "version": "2.7.6"
  },
  "colab": {
   "provenance": []
  }
 },
 "nbformat": 4,
 "nbformat_minor": 0
}
