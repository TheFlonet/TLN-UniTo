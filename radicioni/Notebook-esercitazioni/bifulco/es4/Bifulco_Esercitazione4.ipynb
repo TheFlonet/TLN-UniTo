{
 "cells": [
  {
   "cell_type": "markdown",
   "source": [
    "# Esercitazione 4"
   ],
   "metadata": {
    "collapsed": false
   }
  },
  {
   "cell_type": "markdown",
   "source": [
    "## Classificazione di testi tramite il metodo di Rocchio"
   ],
   "metadata": {
    "collapsed": false
   }
  },
  {
   "cell_type": "code",
   "execution_count": 2,
   "outputs": [],
   "source": [
    "from os import listdir\n",
    "from os.path import isfile, join\n",
    "from sklearn.metrics import accuracy_score\n",
    "from sklearn.feature_extraction.text import TfidfVectorizer\n",
    "from sklearn.metrics.pairwise import cosine_similarity\n",
    "\n",
    "from statistics import mean\n",
    "from operator import itemgetter"
   ],
   "metadata": {
    "collapsed": false,
    "ExecuteTime": {
     "end_time": "2023-05-19T15:46:23.347148Z",
     "start_time": "2023-05-19T15:46:22.819606Z"
    }
   }
  },
  {
   "cell_type": "markdown",
   "source": [
    "Per questa esercitazione occorre leggere i dati e accoppiarli con la relativa classe di appartenenza, ovvero il topic del testo.\n",
    "\n",
    "Il nome del file è espresso sotto forma di *topic_num.txt*, quindi è possibile determinare la classe in modo automatico senza bisogno di annotazioni ulteriori.\n",
    "\n",
    "Così facendo si ottiene una lista di 200 coppie (testo, classe)."
   ],
   "metadata": {
    "collapsed": false
   }
  },
  {
   "cell_type": "code",
   "execution_count": 3,
   "outputs": [],
   "source": [
    "def read_data(folder_path):\n",
    "    files = [f for f in listdir(folder_path) if isfile(join(folder_path, f)) and f != '.DS_Store']\n",
    "    docs, classes = [], []\n",
    "    for file in files:\n",
    "        with open(folder_path + file, 'r') as f:\n",
    "            classes.append(file.split('_')[0])\n",
    "            docs.append(f.read().strip())\n",
    "    return sorted(list(zip(docs, classes)), key=lambda x: x[1])  # docs, classes"
   ],
   "metadata": {
    "collapsed": false,
    "ExecuteTime": {
     "end_time": "2023-05-19T15:46:23.581966Z",
     "start_time": "2023-05-19T15:46:23.571673Z"
    }
   }
  },
  {
   "cell_type": "code",
   "execution_count": 4,
   "metadata": {
    "collapsed": true,
    "ExecuteTime": {
     "end_time": "2023-05-19T15:46:24.320366Z",
     "start_time": "2023-05-19T15:46:24.296046Z"
    }
   },
   "outputs": [],
   "source": [
    "dataset = read_data('04-data/docs_200/')"
   ]
  },
  {
   "cell_type": "markdown",
   "source": [
    "Il metodo *custom_split* permette di prendere le coppie di partenza e dividerle in dati di train e di test.\n",
    "\n",
    "Questa suddivisione è fatta in modo tale da rendere il train set rappresentativo del test set, quindi per ogni classe i 20 file saranno divisi in 18 per il training e 2 per la fase di testing."
   ],
   "metadata": {
    "collapsed": false
   }
  },
  {
   "cell_type": "code",
   "execution_count": 5,
   "outputs": [],
   "source": [
    "def custom_split(dataset, to_exclude):\n",
    "    X_train, X_test, y_train, y_test = [], [], [], []\n",
    "    for idx, row in enumerate(dataset):\n",
    "        doc, cls = row[0], row[1]\n",
    "        if idx % 10 == to_exclude:\n",
    "            X_test.append(doc)\n",
    "            y_test.append(cls)\n",
    "        else:\n",
    "            X_train.append(doc)\n",
    "            y_train.append(cls)\n",
    "    return X_train, X_test, y_train, y_test"
   ],
   "metadata": {
    "collapsed": false,
    "ExecuteTime": {
     "end_time": "2023-05-19T15:46:25.520395Z",
     "start_time": "2023-05-19T15:46:25.517671Z"
    }
   }
  },
  {
   "cell_type": "markdown",
   "source": [
    "Per maneggiare in modo più agevole i dati di input, si sceglie di organizzarli in una struttura a dizionario in cui ad ogni chiave corrisponde un array di elementi, ovvero i testi."
   ],
   "metadata": {
    "collapsed": false
   }
  },
  {
   "cell_type": "code",
   "execution_count": 6,
   "outputs": [],
   "source": [
    "def group_data(train_vec, y_train):\n",
    "    train_set = list(zip(train_vec, y_train))\n",
    "    train_dict = {}\n",
    "    for row in train_set:\n",
    "        if row[1] in train_dict:\n",
    "            train_dict[row[1]].append(row[0])\n",
    "        else:\n",
    "            train_dict[row[1]] = [row[0]]\n",
    "    return train_dict"
   ],
   "metadata": {
    "collapsed": false,
    "ExecuteTime": {
     "end_time": "2023-05-19T15:46:26.538045Z",
     "start_time": "2023-05-19T15:46:26.522692Z"
    }
   }
  },
  {
   "cell_type": "markdown",
   "source": [
    "Utilizzando il metodo di Rocchio per la classificazione, occorre trasformare i documenti da una rappresentazione testuale ad una vettoriale. Si può quindi utilizzare la classe *TfidfVectorizer*.\n",
    "\n",
    "Per il training set si applica la funzione *fit_transform*, che permette di ricavare gli embeddings dei documenti e creare il vocabolario del modello. Invece, per generare il test set gli embedding vengono creati tramite il metodo *transform*, che produce i vettori utilizzando il vocabolario precedentemente appreso."
   ],
   "metadata": {
    "collapsed": false
   }
  },
  {
   "cell_type": "code",
   "execution_count": 7,
   "outputs": [],
   "source": [
    "def get_vectors_tfidf(X_train, X_test):\n",
    "    vectorizer = TfidfVectorizer()\n",
    "    return vectorizer.fit_transform(X_train), vectorizer.transform(X_test)"
   ],
   "metadata": {
    "collapsed": false,
    "ExecuteTime": {
     "end_time": "2023-05-19T15:46:28.147732Z",
     "start_time": "2023-05-19T15:46:28.138251Z"
    }
   }
  },
  {
   "cell_type": "markdown",
   "source": [
    "Le due funzioni riportate servono a:\n",
    "1. Calcolare i centroidi per le classi dei documenti (il centroide di una classe è la semplice media dei suoi valori).\n",
    "2. Calcolare il valore della funzione di Rocchio $\\beta * Pos - \\gamma * Neg$.\n",
    "\n",
    "Dove Pos e Neg rappresentano i centroidi per gli esempi positivi e negativi."
   ],
   "metadata": {
    "collapsed": false
   }
  },
  {
   "cell_type": "code",
   "execution_count": 21,
   "outputs": [],
   "source": [
    "compute_centroid = lambda samples: sum(samples) / len(samples)\n",
    "rocchio_func = lambda pos_c, neg_c, beta, gamma: beta * pos_c - gamma * neg_c"
   ],
   "metadata": {
    "collapsed": false,
    "ExecuteTime": {
     "end_time": "2023-05-19T15:48:14.139994Z",
     "start_time": "2023-05-19T15:48:14.132746Z"
    }
   }
  },
  {
   "cell_type": "markdown",
   "source": [
    "Il metodo *rocchio_standard* permette di calcolare i centroidi, utilizzando come esempi positivi quelli presenti nella classe di arrivo e, come esempi negativi, tutti gli altri esempi del dataset indipendentemente dalla loro prossimità."
   ],
   "metadata": {
    "collapsed": false
   }
  },
  {
   "cell_type": "code",
   "execution_count": 10,
   "outputs": [],
   "source": [
    "def rocchio_standard(data, beta, gamma):\n",
    "    centroids = []\n",
    "    for cls_pos, samples_pos in data.items():\n",
    "        pos_centroid = compute_centroid(samples_pos)\n",
    "        neg = []\n",
    "        for cls_neg, samples_neg in data.items():\n",
    "            if cls_pos != cls_neg:\n",
    "                neg.extend(samples_neg)\n",
    "        centroids.append([cls_pos, rocchio_func(pos_centroid, compute_centroid(neg), beta, gamma)])\n",
    "    return centroids"
   ],
   "metadata": {
    "collapsed": false,
    "ExecuteTime": {
     "end_time": "2023-05-19T15:46:40.991796Z",
     "start_time": "2023-05-19T15:46:40.983947Z"
    }
   }
  },
  {
   "cell_type": "markdown",
   "source": [
    "*rocchio_npos_n_best* è una prima variazione in cui, come esempi negativi, non vengono utilizzati tutti gli esempi del dataset ma solo gli *n* più prossimi al centroide dei positivi. L'idea è quella di catturare gli elementi che creano maggiore disturbo nella classificazione."
   ],
   "metadata": {
    "collapsed": false
   }
  },
  {
   "cell_type": "code",
   "execution_count": 11,
   "outputs": [],
   "source": [
    "def rocchio_npos_n_best(data, n, beta, gamma):\n",
    "    centroids = []\n",
    "    for cls_pos, samples_pos in data.items():\n",
    "        pos_centroid = compute_centroid(samples_pos)\n",
    "        sim_rank = []\n",
    "        for cls_neg, samples_neg in data.items():\n",
    "            if cls_pos != cls_neg:\n",
    "                for sample in samples_neg:\n",
    "                    sim_rank.append([sample, cosine_similarity(pos_centroid, sample)])\n",
    "        sim_rank = sorted(sim_rank, key=itemgetter(1), reverse=True)\n",
    "        neg = [x[0] for x in sim_rank[:n]]\n",
    "        centroids.append([cls_pos, rocchio_func(pos_centroid, compute_centroid(neg), beta, gamma)])\n",
    "    return centroids"
   ],
   "metadata": {
    "collapsed": false,
    "ExecuteTime": {
     "end_time": "2023-05-19T15:46:41.433896Z",
     "start_time": "2023-05-19T15:46:41.420476Z"
    }
   }
  },
  {
   "cell_type": "markdown",
   "source": [
    "*rocchio_npos_naive* utilizza una divisione naive dei dati, ovvero considera come esempi *near positive* tutti i membri di una classe semanticamente vicina alla classe dei positivi. Questo concetto di \"vicinanza semantica\" è espresso tramite un dizionario di coppie (classe, classe near positive) definito a priori."
   ],
   "metadata": {
    "collapsed": false
   }
  },
  {
   "cell_type": "code",
   "execution_count": 12,
   "outputs": [],
   "source": [
    "def rocchio_npos_naive(data, beta, gamma):\n",
    "    npos_dict = {\n",
    "        'cinema': 'spettacoli', 'spettacoli': 'cinema',\n",
    "        'ambiente': 'scie', 'scie': 'ambiente',\n",
    "        'cucina': 'salute', 'salute': 'cucina',\n",
    "        'economia': 'politica', 'politica': 'economia',\n",
    "        'motori': 'sport', 'sport': 'motori'\n",
    "    }\n",
    "    centroids = []\n",
    "    for cls_pos, samples_pos in data.items():\n",
    "        centroids.append([cls_pos,\n",
    "                          rocchio_func(compute_centroid(samples_pos),\n",
    "                                       compute_centroid(data[npos_dict[cls_pos]]),\n",
    "                                       beta, gamma)])\n",
    "    return centroids"
   ],
   "metadata": {
    "collapsed": false,
    "ExecuteTime": {
     "end_time": "2023-05-19T15:46:41.878799Z",
     "start_time": "2023-05-19T15:46:41.873365Z"
    }
   }
  },
  {
   "cell_type": "markdown",
   "source": [
    "Infine, il metodo *estimate_classes* ha come obiettivo quello di calcolare la classe più probabile, dati in input la lista dei centroidi e un vettore rappresentante un documento."
   ],
   "metadata": {
    "collapsed": false
   }
  },
  {
   "cell_type": "code",
   "execution_count": 13,
   "outputs": [],
   "source": [
    "def estimate_classes(centroids, test_vec):\n",
    "    y_pred = []\n",
    "    for test_doc in test_vec:\n",
    "        best_sim = -1\n",
    "        best_cls = ''\n",
    "        for c in centroids:\n",
    "            sim = cosine_similarity(c[1], test_doc)\n",
    "            if sim > best_sim:\n",
    "                best_sim = sim\n",
    "                best_cls = c[0]\n",
    "        y_pred.append(best_cls)\n",
    "    return y_pred"
   ],
   "metadata": {
    "collapsed": false,
    "ExecuteTime": {
     "end_time": "2023-05-19T15:46:43.012665Z",
     "start_time": "2023-05-19T15:46:43.008404Z"
    }
   }
  },
  {
   "cell_type": "markdown",
   "source": [
    "*n_pos* esegue il metodo di Rocchio con insiemi sempre maggiori di *near positive*. L'accuratezza riportata è la media delle accuratezze ottenute dalle singole computazioni tramite la tecnica di *cross validation*."
   ],
   "metadata": {
    "collapsed": false
   }
  },
  {
   "cell_type": "code",
   "execution_count": 14,
   "outputs": [],
   "source": [
    "def n_npos(data, beta, gamma):\n",
    "    means = []\n",
    "    for n in range(20, 161, 20):\n",
    "        accs = []\n",
    "        for i in range(10):\n",
    "            X_train, X_test, y_train, y_test = custom_split(data, i)\n",
    "            X_train_vectors, X_test_vectors = get_vectors_tfidf(X_train, X_test)\n",
    "            train_dict = group_data(X_train_vectors, y_train)\n",
    "\n",
    "            centroids = rocchio_npos_n_best(train_dict, n, beta, gamma)\n",
    "            y_pred = estimate_classes(centroids, X_test_vectors)\n",
    "            accs.append(accuracy_score(y_test, y_pred))\n",
    "        means.append(mean(accs))\n",
    "\n",
    "    return means"
   ],
   "metadata": {
    "collapsed": false,
    "ExecuteTime": {
     "end_time": "2023-05-19T15:46:44.716749Z",
     "start_time": "2023-05-19T15:46:44.681621Z"
    }
   }
  },
  {
   "cell_type": "markdown",
   "source": [
    "*standard_naive* permette di testare il metodo di Rocchio secondo l'approccio standard e con la classificazione naive dei *near positive*.\n",
    "\n",
    "Anche in questo caso viene restituita l'accuratezza media tramite il metodo di *cross validation*."
   ],
   "metadata": {
    "collapsed": false
   }
  },
  {
   "cell_type": "code",
   "execution_count": 15,
   "outputs": [],
   "source": [
    "def standard_naive(data, beta, gamma):\n",
    "    accs_1, accs_2 = [], []\n",
    "    for i in range(10):\n",
    "        X_train, X_test, y_train, y_test = custom_split(data, i)\n",
    "        X_train_vectors, X_test_vectors = get_vectors_tfidf(X_train, X_test)\n",
    "        train_dict = group_data(X_train_vectors, y_train)\n",
    "\n",
    "        centroids = rocchio_standard(train_dict, beta, gamma)\n",
    "        y_pred = estimate_classes(centroids, X_test_vectors)\n",
    "        accs_1.append(accuracy_score(y_test, y_pred))\n",
    "\n",
    "        centroids = rocchio_npos_naive(train_dict, beta, gamma)\n",
    "        y_pred = estimate_classes(centroids, X_test_vectors)\n",
    "        accs_2.append(accuracy_score(y_test, y_pred))\n",
    "    return [mean(accs_1), mean(accs_2)]"
   ],
   "metadata": {
    "collapsed": false,
    "ExecuteTime": {
     "end_time": "2023-05-19T15:46:45.448994Z",
     "start_time": "2023-05-19T15:46:45.439142Z"
    }
   }
  },
  {
   "cell_type": "markdown",
   "source": [
    "Le varianti del metodo di Rocchio sono state testate con diversi valori di $\\beta$ e $\\gamma$, in modo da valutare come possano influire sul risultato finale."
   ],
   "metadata": {
    "collapsed": false
   }
  },
  {
   "cell_type": "code",
   "execution_count": null,
   "outputs": [],
   "source": [
    "print(f'beta,gamma,std,naive,20pos,40pos,60pos,80pos,100pos,120pos,140pos,160pos')\n",
    "for beta in range(4, 21, 4):\n",
    "    for gamma in range(4, 21, 4):\n",
    "        accs = standard_naive(dataset, beta, gamma)\n",
    "        accs.extend(n_npos(dataset, beta, gamma))\n",
    "        print(f'{beta},{gamma},{\",\".join([str(x) for x in accs])}')"
   ],
   "metadata": {
    "collapsed": false
   }
  },
  {
   "cell_type": "markdown",
   "source": [
    "Di seguito sono riportati i risultati per l'intera computazione:\n",
    "\n",
    "| $\\beta$ | $\\gamma$ | std   | naive | 20pos | 40pos | 60pos | 80pos | 100pos | 120pos | 140pos | 160pos |\n",
    "|---------|----------|-------|-------|-------|-------|-------|-------|--------|--------|--------|--------|\n",
    "| 1       | 1        | 0.655 | 0.6   | 0.665 | 0.65  | 0.645 | 0.645 | 0.65   | 0.645  | 0.66   | 0.655  |\n",
    "| 4       | 8        | 0.735 | 0.44  | 0.73  | 0.77  | 0.765 | 0.77  | 0.755  | 0.745  | 0.74   | 0.73   |\n",
    "| 4       | 12       | 0.77  | 0.33  | 0.73  | 0.795 | 0.78  | 0.81  | 0.8    | 0.785  | 0.785  | 0.77   |\n",
    "| 4       | 16       | 0.79  | 0.29  | 0.705 | 0.785 | 0.785 | 0.81  | 0.81   | 0.809  | 0.8    | 0.795  |\n",
    "| 4       | 20       | 0.805 | 0.25  | 0.65  | 0.77  | 0.795 | 0.8   | 0.81   | 0.81   | 0.8    | 0.805  |\n",
    "| 8       | 4        | 0.715 | 0.7   | 0.705 | 0.715 | 0.71  | 0.72  | 0.715  | 0.72   | 0.72   | 0.715  |\n",
    "| 8       | 12       | 0.675 | 0.525 | 0.72  | 0.715 | 0.695 | 0.715 | 0.705  | 0.69   | 0.685  | 0.675  |\n",
    "| 8       | 16       | 0.735 | 0.44  | 0.73  | 0.77  | 0.765 | 0.77  | 0.755  | 0.745  | 0.74   | 0.73   |\n",
    "| 8       | 20       | 0.755 | 0.385 | 0.74  | 0.79  | 0.78  | 0.795 | 0.785  | 0.77   | 0.76   | 0.76   |\n",
    "| 12      | 4        | 0.745 | 0.735 | 0.735 | 0.74  | 0.745 | 0.735 | 0.725  | 0.74   | 0.745  | 0.745  |\n",
    "| 12      | 8        | 0.71  | 0.65  | 0.65  | 0.695 | 0.7   | 0.715 | 0.71   | 0.72   | 0.72   | 0.71   |\n",
    "| 12      | 16       | 0.66  | 0.54  | 0.695 | 0.705 | 0.69  | 0.67  | 0.68   | 0.675  | 0.66   | 0.66   |\n",
    "| 12      | 20       | 0.69  | 0.485 | 0.73  | 0.73  | 0.745 | 0.735 | 0.73   | 0.715  | 0.715  | 0.695  |\n",
    "| 16      | 4        | 0.755 | 0.745 | 0.75  | 0.745 | 0.76  | 0.76  | 0.76   | 0.755  | 0.755  | 0.755  |\n",
    "| 16      | 8        | 0.715 | 0.7   | 0.705 | 0.715 | 0.71  | 0.72  | 0.715  | 0.72   | 0.72   | 0.715  |\n",
    "| 16      | 12       | 0.72  | 0.65  | 0.65  | 0.65  | 0.675 | 0.695 | 0.69   | 0.71   | 0.715  | 0.72   |\n",
    "| 16      | 20       | 0.65  | 0.565 | 0.685 | 0.69  | 0.67  | 0.67  | 0.67   | 0.655  | 0.66   | 0.655  |\n",
    "| 20      | 4        | 0.765 | 0.745 | 0.75  | 0.76  | 0.765 | 0.765 | 0.765  | 0.765  | 0.76   | 0.76   |\n",
    "| 20      | 8        | 0.73  | 0.74  | 0.72  | 0.73  | 0.725 | 0.73  | 0.72   | 0.73   | 0.73   | 0.73   |\n",
    "| 20      | 12       | 0.72  | 0.66  | 0.685 | 0.705 | 0.705 | 0.725 | 0.715  | 0.715  | 0.71   | 0.715  |\n",
    "| 20      | 16       | 0.72  | 0.635 | 0.645 | 0.65  | 0.66  | 0.67  | 0.685  | 0.695  | 0.705  | 0.72   |\n",
    "\n",
    "Da notare che la riga corrispondente a $\\beta = 1$ e $\\gamma = 1$ corrispondono tutte le computazioni in cui $\\beta = \\gamma$"
   ],
   "metadata": {
    "collapsed": false
   }
  },
  {
   "cell_type": "markdown",
   "source": [
    "In modo concorde a quanto era ragionevole aspettarsi, i valori più bassi di accuratezza si ottengono in corrispondenza del metodo naive.\n",
    "\n",
    "Questo comportamento è dovuto al fatto che una scelta a priori della classe *near positive* non cattura il concetto di vicinanza nello spazio multidimensionale rappresentato dai vettori dei centroidi.\n",
    "\n",
    "Inoltre, analizzando la tabella, si nota che le accuratezze ottenute non subiscono variazioni significative con il cambio dei parametri considerati ($\\beta$ e $\\gamma$). Tale fenomeno potrebbe essere dovuto al fatto che i vettori di una classe sono abbastanza prossimi e tra loro e allo stesso tempo sufficientemente distanti da documenti di classi diverse. Nonostante ciò, anche se di pochi punti percentuali, si nota che incrementando il numero di *near positive* considerati l'accuratezza aumenta."
   ],
   "metadata": {
    "collapsed": false
   }
  }
 ],
 "metadata": {
  "kernelspec": {
   "display_name": "Python 3",
   "language": "python",
   "name": "python3"
  },
  "language_info": {
   "codemirror_mode": {
    "name": "ipython",
    "version": 2
   },
   "file_extension": ".py",
   "mimetype": "text/x-python",
   "name": "python",
   "nbconvert_exporter": "python",
   "pygments_lexer": "ipython2",
   "version": "2.7.6"
  }
 },
 "nbformat": 4,
 "nbformat_minor": 0
}
